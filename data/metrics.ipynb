{
 "cells": [
  {
   "cell_type": "code",
   "execution_count": 1,
   "id": "54ee7903-0a72-41e7-91ab-3cb930bfbdd8",
   "metadata": {},
   "outputs": [],
   "source": [
    "import pandas as pd\n",
    "import numpy as np"
   ]
  },
  {
   "cell_type": "code",
   "execution_count": 2,
   "id": "f3ef44ab-b0fb-4663-81d7-6a7dbd006489",
   "metadata": {},
   "outputs": [],
   "source": [
    "df = pd.read_csv('data.csv')"
   ]
  },
  {
   "cell_type": "code",
   "execution_count": 3,
   "id": "976d1df9-fafe-4553-835d-78982ee3b692",
   "metadata": {},
   "outputs": [],
   "source": [
    "df2 = pd.read_csv(\"sample.csv\")"
   ]
  },
  {
   "cell_type": "code",
   "execution_count": 4,
   "id": "b640e150-1126-4bb2-9aea-cc223d665f9e",
   "metadata": {},
   "outputs": [],
   "source": [
    "df2[\"time spent on item\"] = np.random.rand(len(df2))*100+5"
   ]
  },
  {
   "cell_type": "code",
   "execution_count": 6,
   "id": "29b41ed3-ca82-40f7-8f15-4332169c61d0",
   "metadata": {},
   "outputs": [],
   "source": [
    "average_time = df2.groupby(\"UserID\")[\"time spent on item\"].mean()"
   ]
  },
  {
   "cell_type": "code",
   "execution_count": 7,
   "id": "4edb168d-c06c-44cc-b94a-85ee48816df8",
   "metadata": {},
   "outputs": [],
   "source": [
    "df2[\"Add to Cart indicator\"] = np.random.rand(len(df2))\n",
    "df2[\"Add to Cart indicator\"]=(df2[\"Add to Cart indicator\"]<=0.2).astype(int)"
   ]
  },
  {
   "cell_type": "code",
   "execution_count": 8,
   "id": "d5db4ebc-ee53-421e-bd6d-d7759f7db979",
   "metadata": {},
   "outputs": [],
   "source": [
    "total_revenue = df2[df2[\"Converted\"]==1][\"ItemID\"].apply(lambda x: df.iloc[x][\"price\"]).dropna().str.replace(\",\",\"\").astype(int).sum()"
   ]
  },
  {
   "cell_type": "code",
   "execution_count": 9,
   "id": "81b962cc-5fde-4bc3-8068-7c60b336eeda",
   "metadata": {},
   "outputs": [],
   "source": [
    "revenue_per_click = df2[\"ItemID\"].apply(lambda x: df.iloc[x][\"price\"]).dropna().str.replace(\",\",\"\").astype(int).median()"
   ]
  },
  {
   "cell_type": "code",
   "execution_count": 10,
   "id": "3e307eb0-61fd-4d2d-950c-5dfb7b017c17",
   "metadata": {},
   "outputs": [],
   "source": [
    "conversion_rate = df2[\"Converted\"].mean()"
   ]
  },
  {
   "cell_type": "code",
   "execution_count": 11,
   "id": "572078a7-5c80-496a-a55d-3198937f7580",
   "metadata": {},
   "outputs": [],
   "source": [
    "add_to_cart_rate = df2[\"Add to Cart indicator\"].mean()"
   ]
  },
  {
   "cell_type": "code",
   "execution_count": 12,
   "id": "9ca74722-8e2a-496b-9d7a-0fc1892d294f",
   "metadata": {},
   "outputs": [],
   "source": [
    "df3 = pd.merge(df2,df2[\"ItemID\"].apply(lambda x: df.iloc[x][\"price\"]).dropna().str.replace(\",\",\"\").astype(int), right_index=True, left_index=True)"
   ]
  },
  {
   "cell_type": "code",
   "execution_count": 13,
   "id": "c5cc340a-a429-48f7-8f33-6341c1e9fb0a",
   "metadata": {},
   "outputs": [],
   "source": [
    "revenue_per_minute = df3[\"ItemID_y\"].sum()/df3[\"time spent on item\"].sum()"
   ]
  },
  {
   "cell_type": "code",
   "execution_count": 17,
   "id": "75ee3a86-34ab-4902-81f0-d4f7e00efceb",
   "metadata": {},
   "outputs": [
    {
     "data": {
      "text/plain": [
       "0.09885823025689819"
      ]
     },
     "execution_count": 17,
     "metadata": {},
     "output_type": "execute_result"
    }
   ],
   "source": [
    "conversion_rate"
   ]
  },
  {
   "cell_type": "code",
   "execution_count": null,
   "id": "e969693a-cc63-4cae-b8f8-941bb87512fb",
   "metadata": {},
   "outputs": [],
   "source": []
  }
 ],
 "metadata": {
  "kernelspec": {
   "display_name": "Python 3 (ipykernel)",
   "language": "python",
   "name": "python3"
  },
  "language_info": {
   "codemirror_mode": {
    "name": "ipython",
    "version": 3
   },
   "file_extension": ".py",
   "mimetype": "text/x-python",
   "name": "python",
   "nbconvert_exporter": "python",
   "pygments_lexer": "ipython3",
   "version": "3.9.7"
  }
 },
 "nbformat": 4,
 "nbformat_minor": 5
}
