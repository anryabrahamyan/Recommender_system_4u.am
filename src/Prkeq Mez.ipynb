{
 "cells": [
  {
   "cell_type": "code",
   "execution_count": 1,
   "id": "fda85ef9",
   "metadata": {},
   "outputs": [],
   "source": [
    "import pandas as pd\n",
    "import csv\n",
    "data = pd.read_csv(\"../data/data.csv\")"
   ]
  },
  {
   "cell_type": "code",
   "execution_count": 2,
   "id": "558e418c",
   "metadata": {},
   "outputs": [
    {
     "data": {
      "text/html": [
       "<div>\n",
       "<style scoped>\n",
       "    .dataframe tbody tr th:only-of-type {\n",
       "        vertical-align: middle;\n",
       "    }\n",
       "\n",
       "    .dataframe tbody tr th {\n",
       "        vertical-align: top;\n",
       "    }\n",
       "\n",
       "    .dataframe thead th {\n",
       "        text-align: right;\n",
       "    }\n",
       "</style>\n",
       "<table border=\"1\" class=\"dataframe\">\n",
       "  <thead>\n",
       "    <tr style=\"text-align: right;\">\n",
       "      <th></th>\n",
       "      <th>Unnamed: 0.1</th>\n",
       "      <th>Unnamed: 0</th>\n",
       "      <th>product</th>\n",
       "      <th>item_code</th>\n",
       "      <th>store</th>\n",
       "      <th>brand</th>\n",
       "      <th>url</th>\n",
       "      <th>price</th>\n",
       "      <th>item description</th>\n",
       "      <th>image url</th>\n",
       "    </tr>\n",
       "  </thead>\n",
       "  <tbody>\n",
       "    <tr>\n",
       "      <th>0</th>\n",
       "      <td>0</td>\n",
       "      <td>0</td>\n",
       "      <td>Վարդաջուր «Nairian» միցելային</td>\n",
       "      <td>N:001347</td>\n",
       "      <td>Nairian</td>\n",
       "      <td>Nairian</td>\n",
       "      <td>https://4u.am/hy/product/vardajur-nairian-mice...</td>\n",
       "      <td>10500</td>\n",
       "      <td>Հեշտությամբ մաքրեք երկար օրվա հետքերը դեմքից՝ ...</td>\n",
       "      <td>https://static.4u.am/origin/product/1024/00029...</td>\n",
       "    </tr>\n",
       "    <tr>\n",
       "      <th>1</th>\n",
       "      <td>1</td>\n",
       "      <td>1</td>\n",
       "      <td>Օծանելիք «Erato Femme Passionnee»</td>\n",
       "      <td>N:018945</td>\n",
       "      <td>Jamharian Perfume</td>\n",
       "      <td>NaN</td>\n",
       "      <td>https://4u.am/hy/product/ocanelik-erato-femme-...</td>\n",
       "      <td>67000</td>\n",
       "      <td>Էրատո թագուհուն նվիրված աֆրոդիզիակ պարունակող ...</td>\n",
       "      <td>https://static.4u.am/origin/product/1024/76nM0...</td>\n",
       "    </tr>\n",
       "    <tr>\n",
       "      <th>2</th>\n",
       "      <td>2</td>\n",
       "      <td>2</td>\n",
       "      <td>Քսուք «Nairian» աչքի, հակատարիքային, երիտասարդ...</td>\n",
       "      <td>N:000696</td>\n",
       "      <td>Nairian</td>\n",
       "      <td>Nairian</td>\n",
       "      <td>https://4u.am/hy/product/acki-ksuk-nairian-hak...</td>\n",
       "      <td>33300</td>\n",
       "      <td>Օգտակար հատկությունները. Բնության զորությամբ լ...</td>\n",
       "      <td>https://static.4u.am/origin/product/1024/00029...</td>\n",
       "    </tr>\n",
       "    <tr>\n",
       "      <th>3</th>\n",
       "      <td>3</td>\n",
       "      <td>3</td>\n",
       "      <td>Օծանելիք «Jamharian Collection Blue»</td>\n",
       "      <td>N:018916</td>\n",
       "      <td>Jamharian Perfume</td>\n",
       "      <td>NaN</td>\n",
       "      <td>https://4u.am/hy/product/ocanelik-jamharian-co...</td>\n",
       "      <td>45000</td>\n",
       "      <td>JC Blue-ն գրավում է ցիտրուսային և ծաղկուն նոտա...</td>\n",
       "      <td>https://static.4u.am/origin/product/1024/7kp16...</td>\n",
       "    </tr>\n",
       "    <tr>\n",
       "      <th>4</th>\n",
       "      <td>4</td>\n",
       "      <td>4</td>\n",
       "      <td>Քսուք-բալզամ «Բնատուր» աչքերի շուրջ մաշկի համար</td>\n",
       "      <td>N:000466</td>\n",
       "      <td>Bnatur</td>\n",
       "      <td>Bnatur</td>\n",
       "      <td>https://4u.am/hy/product/ksuk-balzam-bnatur-ac...</td>\n",
       "      <td>7700</td>\n",
       "      <td>Սնուցող և հարթեցնող քսուք-բալզամ: \\n\\n\\nՆշանակ...</td>\n",
       "      <td>https://static.4u.am/origin/product/1024/lxjw-...</td>\n",
       "    </tr>\n",
       "    <tr>\n",
       "      <th>...</th>\n",
       "      <td>...</td>\n",
       "      <td>...</td>\n",
       "      <td>...</td>\n",
       "      <td>...</td>\n",
       "      <td>...</td>\n",
       "      <td>...</td>\n",
       "      <td>...</td>\n",
       "      <td>...</td>\n",
       "      <td>...</td>\n",
       "      <td>...</td>\n",
       "    </tr>\n",
       "    <tr>\n",
       "      <th>252</th>\n",
       "      <td>856</td>\n",
       "      <td>856</td>\n",
       "      <td>Կոմպոզիցիա ''Բատեա'' վարդերով և թրաշուշաններով</td>\n",
       "      <td>N:090517</td>\n",
       "      <td>Flowers Kiosq</td>\n",
       "      <td>NaN</td>\n",
       "      <td>https://4u.am/hy/product/kompozicia-batea-vard...</td>\n",
       "      <td>45000</td>\n",
       "      <td>Ծաղկեփունջը ներառում է՝\\n- վարդ\\n- պիոնանման վ...</td>\n",
       "      <td>https://static.4u.am/origin/product/1024/4DDgl...</td>\n",
       "    </tr>\n",
       "    <tr>\n",
       "      <th>253</th>\n",
       "      <td>857</td>\n",
       "      <td>857</td>\n",
       "      <td>Ծաղկեփունջ «Կորդովա» վարդագույն փնջային վարդերով</td>\n",
       "      <td>N:079749</td>\n",
       "      <td>Bella</td>\n",
       "      <td>NaN</td>\n",
       "      <td>https://4u.am/hy/product/cagkepunj-kordova-var...</td>\n",
       "      <td>56000</td>\n",
       "      <td>Ծաղիկներ՝ փնջային վարդ:\\nԵրկարությունը՝ 70 սմ:...</td>\n",
       "      <td>https://static.4u.am/origin/product/1024/txzLY...</td>\n",
       "    </tr>\n",
       "    <tr>\n",
       "      <th>254</th>\n",
       "      <td>858</td>\n",
       "      <td>858</td>\n",
       "      <td>Կոմպոզիցիա «Բանարի» փնջային վարդերով և լիմոնիո...</td>\n",
       "      <td>N:090626</td>\n",
       "      <td>Cataleya</td>\n",
       "      <td>NaN</td>\n",
       "      <td>https://4u.am/hy/product/kompozicia-banari-pnj...</td>\n",
       "      <td>17150</td>\n",
       "      <td>Ծաղիկները՝ փնջային վարդ, լիմոնիում, գիպսոֆիլիա...</td>\n",
       "      <td>https://static.4u.am/origin/product/1024/ticD_...</td>\n",
       "    </tr>\n",
       "    <tr>\n",
       "      <th>255</th>\n",
       "      <td>859</td>\n",
       "      <td>859</td>\n",
       "      <td>Կոմպոզիցիա «Տորոնտո» փնջային վարդերով, քրիզանթ...</td>\n",
       "      <td>N:077320</td>\n",
       "      <td>Bella</td>\n",
       "      <td>NaN</td>\n",
       "      <td>https://4u.am/hy/product/kompozicia-toronto-pn...</td>\n",
       "      <td>30000</td>\n",
       "      <td>Ծաղիկները՝ փնջային վարդ, վարդ, քրիզանթեմ\\n\\n\\n...</td>\n",
       "      <td>https://static.4u.am/origin/product/1024/spPWh...</td>\n",
       "    </tr>\n",
       "    <tr>\n",
       "      <th>256</th>\n",
       "      <td>860</td>\n",
       "      <td>860</td>\n",
       "      <td>Ծաղկեփունջ «Անոյա» փնջային վարդերով</td>\n",
       "      <td>N:089191</td>\n",
       "      <td>Baghramyan Varder</td>\n",
       "      <td>NaN</td>\n",
       "      <td>https://4u.am/hy/product/cagkepunj-anoya-pnjay...</td>\n",
       "      <td>56000</td>\n",
       "      <td>Ծաղիկները՝ փնջային վարդեր\\n\\n\\nԾաղիկների քանակ...</td>\n",
       "      <td>https://static.4u.am/origin/product/1024/nTg6A...</td>\n",
       "    </tr>\n",
       "  </tbody>\n",
       "</table>\n",
       "<p>257 rows × 10 columns</p>\n",
       "</div>"
      ],
      "text/plain": [
       "     Unnamed: 0.1  Unnamed: 0  \\\n",
       "0               0           0   \n",
       "1               1           1   \n",
       "2               2           2   \n",
       "3               3           3   \n",
       "4               4           4   \n",
       "..            ...         ...   \n",
       "252           856         856   \n",
       "253           857         857   \n",
       "254           858         858   \n",
       "255           859         859   \n",
       "256           860         860   \n",
       "\n",
       "                                               product item_code  \\\n",
       "0                        Վարդաջուր «Nairian» միցելային  N:001347   \n",
       "1                    Օծանելիք «Erato Femme Passionnee»  N:018945   \n",
       "2    Քսուք «Nairian» աչքի, հակատարիքային, երիտասարդ...  N:000696   \n",
       "3                 Օծանելիք «Jamharian Collection Blue»  N:018916   \n",
       "4      Քսուք-բալզամ «Բնատուր» աչքերի շուրջ մաշկի համար  N:000466   \n",
       "..                                                 ...       ...   \n",
       "252     Կոմպոզիցիա ''Բատեա'' վարդերով և թրաշուշաններով  N:090517   \n",
       "253   Ծաղկեփունջ «Կորդովա» վարդագույն փնջային վարդերով  N:079749   \n",
       "254  Կոմպոզիցիա «Բանարի» փնջային վարդերով և լիմոնիո...  N:090626   \n",
       "255  Կոմպոզիցիա «Տորոնտո» փնջային վարդերով, քրիզանթ...  N:077320   \n",
       "256                Ծաղկեփունջ «Անոյա» փնջային վարդերով  N:089191   \n",
       "\n",
       "                 store    brand  \\\n",
       "0              Nairian  Nairian   \n",
       "1    Jamharian Perfume      NaN   \n",
       "2              Nairian  Nairian   \n",
       "3    Jamharian Perfume      NaN   \n",
       "4               Bnatur   Bnatur   \n",
       "..                 ...      ...   \n",
       "252      Flowers Kiosq      NaN   \n",
       "253              Bella      NaN   \n",
       "254           Cataleya      NaN   \n",
       "255              Bella      NaN   \n",
       "256  Baghramyan Varder      NaN   \n",
       "\n",
       "                                                   url  price  \\\n",
       "0    https://4u.am/hy/product/vardajur-nairian-mice...  10500   \n",
       "1    https://4u.am/hy/product/ocanelik-erato-femme-...  67000   \n",
       "2    https://4u.am/hy/product/acki-ksuk-nairian-hak...  33300   \n",
       "3    https://4u.am/hy/product/ocanelik-jamharian-co...  45000   \n",
       "4    https://4u.am/hy/product/ksuk-balzam-bnatur-ac...   7700   \n",
       "..                                                 ...    ...   \n",
       "252  https://4u.am/hy/product/kompozicia-batea-vard...  45000   \n",
       "253  https://4u.am/hy/product/cagkepunj-kordova-var...  56000   \n",
       "254  https://4u.am/hy/product/kompozicia-banari-pnj...  17150   \n",
       "255  https://4u.am/hy/product/kompozicia-toronto-pn...  30000   \n",
       "256  https://4u.am/hy/product/cagkepunj-anoya-pnjay...  56000   \n",
       "\n",
       "                                      item description  \\\n",
       "0    Հեշտությամբ մաքրեք երկար օրվա հետքերը դեմքից՝ ...   \n",
       "1    Էրատո թագուհուն նվիրված աֆրոդիզիակ պարունակող ...   \n",
       "2    Օգտակար հատկությունները. Բնության զորությամբ լ...   \n",
       "3    JC Blue-ն գրավում է ցիտրուսային և ծաղկուն նոտա...   \n",
       "4    Սնուցող և հարթեցնող քսուք-բալզամ: \\n\\n\\nՆշանակ...   \n",
       "..                                                 ...   \n",
       "252  Ծաղկեփունջը ներառում է՝\\n- վարդ\\n- պիոնանման վ...   \n",
       "253  Ծաղիկներ՝ փնջային վարդ:\\nԵրկարությունը՝ 70 սմ:...   \n",
       "254  Ծաղիկները՝ փնջային վարդ, լիմոնիում, գիպսոֆիլիա...   \n",
       "255  Ծաղիկները՝ փնջային վարդ, վարդ, քրիզանթեմ\\n\\n\\n...   \n",
       "256  Ծաղիկները՝ փնջային վարդեր\\n\\n\\nԾաղիկների քանակ...   \n",
       "\n",
       "                                             image url  \n",
       "0    https://static.4u.am/origin/product/1024/00029...  \n",
       "1    https://static.4u.am/origin/product/1024/76nM0...  \n",
       "2    https://static.4u.am/origin/product/1024/00029...  \n",
       "3    https://static.4u.am/origin/product/1024/7kp16...  \n",
       "4    https://static.4u.am/origin/product/1024/lxjw-...  \n",
       "..                                                 ...  \n",
       "252  https://static.4u.am/origin/product/1024/4DDgl...  \n",
       "253  https://static.4u.am/origin/product/1024/txzLY...  \n",
       "254  https://static.4u.am/origin/product/1024/ticD_...  \n",
       "255  https://static.4u.am/origin/product/1024/spPWh...  \n",
       "256  https://static.4u.am/origin/product/1024/nTg6A...  \n",
       "\n",
       "[257 rows x 10 columns]"
      ]
     },
     "execution_count": 2,
     "metadata": {},
     "output_type": "execute_result"
    }
   ],
   "source": [
    "data"
   ]
  },
  {
   "cell_type": "code",
   "execution_count": 3,
   "id": "81610865",
   "metadata": {},
   "outputs": [],
   "source": [
    "product_name = data[\"product\"]\n",
    "Item_description = data[\"item description\"]\n",
    "\n",
    "\n"
   ]
  },
  {
   "cell_type": "code",
   "execution_count": 18,
   "id": "9ee9d528",
   "metadata": {},
   "outputs": [],
   "source": [
    "import requests\n",
    "import cv2\n",
    "from os import path\n",
    "import urllib.parse\n",
    "import numpy as np\n",
    "from PIL import Image\n",
    "from io import StringIO\n",
    "from tensorflow.keras.applications.resnet50 import ResNet50\n",
    "import os\n",
    "import tensorflow as tf"
   ]
  },
  {
   "cell_type": "code",
   "execution_count": 49,
   "id": "7ab6930b",
   "metadata": {},
   "outputs": [],
   "source": [
    "for i in data[\"image url\"]:\n",
    "    img_data = requests.get(i).content\n",
    "    \n",
    "\n",
    "    url_parts = urllib.parse.urlparse(i)\n",
    "    path_parts = url_parts[2].rpartition('/')\n",
    "    address = r\"C:\\Users\\Admin\\Desktop\\marketing_analytics_group_project\\Recommender_system_4u.am\\images\"\n",
    "    imgSaveDir = path.join(address, path_parts[2])\n",
    "    with open(imgSaveDir, \"wb\") as handler:\n",
    "        handler.write(img_data)"
   ]
  },
  {
   "cell_type": "code",
   "execution_count": 34,
   "id": "8a08b5e5",
   "metadata": {},
   "outputs": [],
   "source": [
    "lst = []\n",
    "for image in os.listdir('../images/'):\n",
    "    i = Image.open('../images/' + image)\n",
    "    i=np.array(i)\n",
    "    \n",
    "    lst.append(i)"
   ]
  },
  {
   "cell_type": "code",
   "execution_count": 45,
   "id": "32139be1",
   "metadata": {},
   "outputs": [],
   "source": [
    "lst_= [tf.image.resize(img,size=(224,224)) for img in lst]\n",
    "model = ResNet50(include_top=True,input_shape=(224, 224, 3))"
   ]
  },
  {
   "cell_type": "code",
   "execution_count": 49,
   "id": "4f346077",
   "metadata": {},
   "outputs": [],
   "source": [
    "ar = np.empty((1,1000))\n",
    "for i in range(len(lst_)):\n",
    "    m = model(tf.expand_dims(lst_[i],0))\n",
    "    ar = np.concatenate([ar,m])\n",
    "with open('arr.npy', 'wb') as f:\n",
    "    np.save(f,ar)"
   ]
  },
  {
   "cell_type": "code",
   "execution_count": 50,
   "id": "a14c4aec",
   "metadata": {},
   "outputs": [],
   "source": [
    "with open('arr.npy', 'rb') as f:\n",
    "    ar = np.load(f)"
   ]
  },
  {
   "cell_type": "code",
   "execution_count": 52,
   "id": "3f9ff571",
   "metadata": {},
   "outputs": [
    {
     "data": {
      "text/plain": [
       "(251, 1000)"
      ]
     },
     "execution_count": 52,
     "metadata": {},
     "output_type": "execute_result"
    }
   ],
   "source": [
    "ar.shape"
   ]
  },
  {
   "cell_type": "code",
   "execution_count": 7,
   "id": "79c2d928",
   "metadata": {},
   "outputs": [
    {
     "name": "stderr",
     "output_type": "stream",
     "text": [
      "None of PyTorch, TensorFlow >= 2.0, or Flax have been found. Models won't be available and only tokenizers, configuration and file/data utilities can be used.\n"
     ]
    },
    {
     "data": {
      "application/vnd.jupyter.widget-view+json": {
       "model_id": "bea3ded46adc4175b9f866ef3f2cf0c7",
       "version_major": 2,
       "version_minor": 0
      },
      "text/plain": [
       "Downloading:   0%|          | 0.00/232k [00:00<?, ?B/s]"
      ]
     },
     "metadata": {},
     "output_type": "display_data"
    },
    {
     "data": {
      "application/vnd.jupyter.widget-view+json": {
       "model_id": "ae119258abf34231b52d609a5d5de857",
       "version_major": 2,
       "version_minor": 0
      },
      "text/plain": [
       "Downloading:   0%|          | 0.00/28.0 [00:00<?, ?B/s]"
      ]
     },
     "metadata": {},
     "output_type": "display_data"
    },
    {
     "data": {
      "application/vnd.jupyter.widget-view+json": {
       "model_id": "17a1112df48b4caab427e0bb60ac6254",
       "version_major": 2,
       "version_minor": 0
      },
      "text/plain": [
       "Downloading:   0%|          | 0.00/570 [00:00<?, ?B/s]"
      ]
     },
     "metadata": {},
     "output_type": "display_data"
    }
   ],
   "source": [
    "from transformers import BertTokenizer\n",
    "tokenizer = BertTokenizer.from_pretrained(\"bert-base-uncased\")"
   ]
  }
 ],
 "metadata": {
  "kernelspec": {
   "display_name": "Python 3 (ipykernel)",
   "language": "python",
   "name": "python3"
  },
  "language_info": {
   "codemirror_mode": {
    "name": "ipython",
    "version": 3
   },
   "file_extension": ".py",
   "mimetype": "text/x-python",
   "name": "python",
   "nbconvert_exporter": "python",
   "pygments_lexer": "ipython3",
   "version": "3.10.6"
  }
 },
 "nbformat": 4,
 "nbformat_minor": 5
}
