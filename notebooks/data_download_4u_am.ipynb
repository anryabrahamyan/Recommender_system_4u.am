{
 "cells": [
  {
   "cell_type": "code",
   "execution_count": 49,
   "id": "9f3355f4-15f0-43a2-bff4-edc739a38151",
   "metadata": {},
   "outputs": [],
   "source": [
    "from bs4 import BeautifulSoup\n",
    "import grequests\n",
    "import requests\n",
    "from multiprocessing import Pool\n",
    "import numpy as np"
   ]
  },
  {
   "cell_type": "code",
   "execution_count": 50,
   "id": "285062b7-9b0c-468a-95f7-ea9859382870",
   "metadata": {},
   "outputs": [],
   "source": [
    "def strip_white_chars(text):\n",
    "    return text.strip(\"\\n\").strip(\" \")"
   ]
  },
  {
   "cell_type": "code",
   "execution_count": 66,
   "id": "2a668b32-a3f5-4ba9-829e-48c8fa1e05bc",
   "metadata": {},
   "outputs": [],
   "source": [
    "def get_product_data(product_request):\n",
    "    \"\"\"Function is responsible for scraping product data from 4U.am product content\n",
    "    \"\"\"\n",
    "    try:\n",
    "        soup = BeautifulSoup(product_request.content, 'html.parser')\n",
    "        sp = soup.find_all(\"div\", {\"class\": \"info_container\"})[0]\n",
    "\n",
    "        product_data = {}\n",
    "        product_data[\"product\"] = sp.find('p', attrs={'class' : 'name_info'}).text\n",
    "\n",
    "        brand_partner = sp.find_all('div', attrs={'class' : 'brand_partner'})\n",
    "        product_data[\"item_code\"] = brand_partner[0].span.strong.text\n",
    "        product_data[\"store\"] = strip_white_chars(brand_partner[1].find_all(\"span\")[0].a.text)\n",
    "        try:\n",
    "            product_data[\"brand\"] = strip_white_chars(brand_partner[1].find_all(\"span\")[1].a.text)\n",
    "        except:\n",
    "            pass\n",
    "        product_data[\"url\"] = product_request.url\n",
    "        product_data[\"price\"] = strip_white_chars(sp.find(\"p\", attrs={'class' : 'item_price'}).span.span.text)\n",
    "        product_data[\"item description\"] = strip_white_chars(sp.find(\"div\", attrs={'id' : 'description'}).div.text)\n",
    "        product_data[\"image url\"] = soup.find(\"div\", attrs={'class' : 'show_tumb'}).img[\"src\"]\n",
    "\n",
    "        return product_data\n",
    "    except:\n",
    "        return dict()"
   ]
  },
  {
   "cell_type": "code",
   "execution_count": 67,
   "id": "efe3ba62-3564-44fe-8f95-033fb46fc0b5",
   "metadata": {},
   "outputs": [],
   "source": [
    "def get_category_names():\n",
    "    r = requests.get(\"https://4u.am/hy/\")\n",
    "    soup = BeautifulSoup(r.content, 'html.parser')\n",
    "    text = str(soup)\n",
    "    return list(set(re.findall(r\"\\/hy/category/([\\w-]+)[\\?|\\\"]\\b\", text)))"
   ]
  },
  {
   "cell_type": "code",
   "execution_count": 68,
   "id": "b46c4253-fc7c-46e2-a79d-9c191f0e37b5",
   "metadata": {},
   "outputs": [],
   "source": [
    "def extract_category_contents(category_names):\n",
    "    rs = (grequests.get(\"https://4u.am/hy/category/\"+cat) for cat in category_names)\n",
    "    return grequests.map(rs)\n",
    "\n",
    "def extract_item_contents(item_urls):\n",
    "    rs = (grequests.get(\"https://4u.am\"+item) for item in item_urls)\n",
    "    return grequests.map(rs)"
   ]
  },
  {
   "cell_type": "code",
   "execution_count": 69,
   "id": "59c19120-0c6f-4732-b04d-bf3256c7cd5d",
   "metadata": {},
   "outputs": [],
   "source": [
    "def extract_item_urls(category_request):\n",
    "    items = []\n",
    "    soup = BeautifulSoup(category_request.content, 'html.parser')\n",
    "    sp= soup.find_all('div', attrs={'class' : 'category_item'})\n",
    "    for i in sp: items.append(i.find_all(\"a\")[1][\"href\"])\n",
    "    return items"
   ]
  },
  {
   "cell_type": "code",
   "execution_count": 70,
   "id": "afc8d458-2705-47a0-aca3-6a0637df08fc",
   "metadata": {},
   "outputs": [],
   "source": [
    "def extract_item_info(category_names):\n",
    "    \n",
    "    with Pool(5) as p:\n",
    "        item_urls = p.map(extract_item_urls, extract_category_contents(category_names), chunksize=1)\n",
    "    urls = [j for i in item_urls for j in i]\n",
    "\n",
    "    with Pool(5) as p:\n",
    "        result = p.map(get_product_data,extract_item_contents(urls))\n",
    "    \n",
    "    return result"
   ]
  },
  {
   "cell_type": "code",
   "execution_count": 71,
   "id": "7a9a34d8-2a88-47c5-8588-c70270a1f9f5",
   "metadata": {},
   "outputs": [],
   "source": [
    "category_names =  get_category_names()"
   ]
  },
  {
   "cell_type": "code",
   "execution_count": 73,
   "id": "d9de5b9d-fada-4562-9eaf-b138169e1af5",
   "metadata": {},
   "outputs": [
    {
     "name": "stdout",
     "output_type": "stream",
     "text": [
      "https://4u.am/hy/product/vardajur-nairian-micelayin\n",
      "https://4u.am/hy/product/pucikner-luchiya-no11\n",
      "https://4u.am/hy/product/sampun-inferno-tepi-dem\n",
      "https://4u.am/hy/product/multheros-star-wars-mandalorian-the-child-pram\n",
      "https://4u.am/hy/product/danak-kizlyar-pogpate-no5\n",
      "https://4u.am/hy/product/tegapoxman-vandak-beeztees-ktore\n",
      "https://4u.am/hy/product/girk-bar-ow-bani-stemaran\n",
      "https://4u.am/hy/product/donat-kompozicia-siena\n",
      "https://4u.am/hy/product/nver-kart-quest-project-isolation-la-casa-de-papel\n",
      "https://4u.am/hy/product/banan-1-kg-5\n",
      "https://4u.am/hy/product/ocanelik-erato-femme-passionnee\n",
      "https://4u.am/hy/product/zartucic-creative-gifts-atrcanak\n",
      "https://4u.am/hy/product/krem-skrab-nuard-dastayin-cagikner-2\n",
      "https://4u.am/hy/product/sarf-moreni-ayb-erknaguyn\n",
      "https://4u.am/hy/product/kaxazard-u-sgta-oskya-14\n",
      "https://4u.am/hy/product/ekler-sweet-m\n",
      "https://4u.am/hy/product/nver-tup-the-box-no224\n",
      "https://4u.am/hy/product/kotletner-bellisimo-kievyan-1-kg\n",
      "https://4u.am/hy/product/tort-murano-cakes-no9https://4u.am/hy/product/mersum-nirvana-60-rope\n",
      "\n",
      "https://4u.am/hy/product/havakacu-bonasens-hekiatayin-gund-jnemardukner-u-hrestakner\n",
      "https://4u.am/hy/product/goti-monarch-tgamardu-no3\n",
      "https://4u.am/hy/product/arevayin-aknoc-danz-nodz1401\n",
      "https://4u.am/hy/product/kompozicia-diano-pnjayin-varderov\n",
      "https://4u.am/hy/product/laym-1-hat-3\n",
      "https://4u.am/hy/product/acki-ksuk-nairian-hakatarikayin-eritasardacnog-ev-megmog-15ml\n",
      "https://4u.am/hy/product/klasik-abonement-prolife-fitness-spa-3-amis\n",
      "https://4u.am/hy/product/kompozicia-batea-varderov-ev-trasusannerov\n",
      "https://4u.am/hy/product/ocanelik-jamharian-collection-blue\n",
      "https://4u.am/hy/product/zamacuyc-casio-jerki-ltp-1230d-7cdf\n",
      "https://4u.am/hy/product/trick-odaparikov-skyball-xmbayin\n",
      "https://4u.am/hy/product/turinj-1-kg-3\n",
      "https://4u.am/hy/product/cagkepunj-kordova-vardaguyn-pnjayin-varderov\n",
      "https://4u.am/hy/product/ksuk-balzam-bnatur-ackeri-surj-maski-hamar\n",
      "https://4u.am/hy/product/kivi-kg-3\n",
      "https://4u.am/hy/product/vran-wow-glamping-4-anji-hamar\n",
      "https://4u.am/hy/product/kompozicia-banari-pnjayin-varderov-ev-limoniumnerov\n",
      "https://4u.am/hy/product/sampun-bnatur-punj\n",
      "https://4u.am/hy/product/kotletner-bellisimo-havi-msov-1kg\n",
      "https://4u.am/hy/product/hravarutyun-no4\n",
      "https://4u.am/hy/product/kompozicia-toronto-pnjayin-varderov-krizantemnerov-konfetnerov\n",
      "https://4u.am/hy/product/ocanelik-enjoy-eau-de-parfum-2\n",
      "https://4u.am/hy/product/hyut-bnakan-happy-day-hapalas-acerola-1l\n",
      "https://4u.am/hy/product/xag-peyntbol-legion-paintball-club-200-gndak-1-anji-hamar\n",
      "https://4u.am/hy/product/cagkepunj-anoya-pnjayin-varderov\n",
      "https://4u.am/hy/product/isli-kyufta-bellisimo\n",
      "https://4u.am/hy/product/kompozicia-balboa-varderov-ev-georginanerov\n",
      "https://4u.am/hy/product/sampun-ev-loganki-gel-nuard-mankakan\n",
      "https://4u.am/hy/product/ocanelik-jamharian-collection-gold\n",
      "https://4u.am/hy/product/avokado-1-hat-3\n",
      "https://4u.am/hy/product/havakacu-arcaxi-ham-no2\n",
      "https://4u.am/hy/product/ocanelik-enjoy-eau-de-parfum\n",
      "https://4u.am/hy/product/narinj-kg\n",
      "https://4u.am/hy/product/krem-nuard-demki-cerekayin\n",
      "https://4u.am/hy/product/kitron-1-hat-3\n",
      "https://4u.am/hy/product/sicuk-akntart-tarticneri-ev-honkeri-hamar\n",
      "https://4u.am/hy/product/xonavacnog-ksuk\n",
      "https://4u.am/hy/product/ocar-nairian-lernayin-urc\n",
      "https://4u.am/hy/product/nver-tup-bold-man-tgamardu-5\n",
      "https://4u.am/hy/product/ksuk-bnatur-hakakncirayin-demki-hamar\n",
      "https://4u.am/hy/product/dimak-nuard-mazeri-hamar\n",
      "https://4u.am/hy/product/marmni-ksuk-nairian\n",
      "https://4u.am/hy/product/sampun-bold-man-california-love-tgamardkanc-hamar\n",
      "https://4u.am/hy/product/nver-tup-bold-man-tgamardu-6\n",
      "https://4u.am/hy/product/yug-bold-man-mad-man-moruki-hamar\n",
      "https://4u.am/hy/product/ocanelik-erato-sexe-passionnee\n",
      "https://4u.am/hy/product/krem-skrab-nuard-hataptgayin\n",
      "https://4u.am/hy/product/skrab-dimak-soga-cor-normal-maski\n",
      "https://4u.am/hy/product/marmni-erkyak-xnamk-nairian-jerki-ksuk-ev-tarxuni-ocar\n",
      "https://4u.am/hy/product/ksuk-nairian-jerkeri-hamar-patrinj\n",
      "https://4u.am/hy/product/sicuk-nuard-tarticneri-ev-honkeri-aci\n",
      "https://4u.am/hy/product/dimak-bnatur-mazeri-hamar\n",
      "https://4u.am/hy/product/skrab-nairian-vardayin\n",
      "https://4u.am/hy/product/nver-tup-nairian-nardosi-knksutyun\n",
      "https://4u.am/hy/product/ocanelik-jamharian-collection-violet\n",
      "https://4u.am/hy/product/jerki-ksuk-nairian\n",
      "https://4u.am/hy/product/ocanelik-lusin-parfume-jer-anunazganun-krog\n",
      "https://4u.am/hy/product/sicuk-nairian-giserayin\n",
      "https://4u.am/hy/product/ocanelik-jamharian-collection-green\n",
      "https://4u.am/hy/product/loganki-gel-nuard-marmni-hamar-2\n",
      "https://4u.am/hy/product/sakaraman-nuard-ceramics-saryan\n",
      "https://4u.am/hy/product/cagkaman-nuard-ceramics-kagak-pokr\n",
      "https://4u.am/hy/product/mom-rous-co-anusabuyr-kave-tarayov\n",
      "https://4u.am/hy/product/anhatakan-astgayin-kartez-a305\n",
      "https://4u.am/hy/product/florarium-forli-sukulentnerov\n",
      "https://4u.am/hy/product/florarium-aries-sukulentnerov\n",
      "https://4u.am/hy/product/barj-marpe-jeragorc-dekorativ-no16\n",
      "https://4u.am/hy/product/barji-eres-taraz-art-no4\n",
      "https://4u.am/hy/product/barj-marpe-jeragorc-dekorativ-no4\n"
     ]
    },
    {
     "ename": "AttributeError",
     "evalue": "'NoneType' object has no attribute 'url'",
     "output_type": "error",
     "traceback": [
      "\u001b[0;31m---------------------------------------------------------------------------\u001b[0m",
      "\u001b[0;31mRemoteTraceback\u001b[0m                           Traceback (most recent call last)",
      "\u001b[0;31mRemoteTraceback\u001b[0m: \n\"\"\"\nTraceback (most recent call last):\n  File \"/Library/Developer/CommandLineTools/Library/Frameworks/Python3.framework/Versions/3.9/lib/python3.9/multiprocessing/pool.py\", line 125, in worker\n    result = (True, func(*args, **kwds))\n  File \"/Library/Developer/CommandLineTools/Library/Frameworks/Python3.framework/Versions/3.9/lib/python3.9/multiprocessing/pool.py\", line 48, in mapstar\n    return list(map(*args))\n  File \"/var/folders/m1/qnm45sfj0m97bt5xnc51sz3c0000gn/T/ipykernel_38700/3461579148.py\", line 4, in get_product_data\n    print(product_request.url)\nAttributeError: 'NoneType' object has no attribute 'url'\n\"\"\"",
      "\nThe above exception was the direct cause of the following exception:\n",
      "\u001b[0;31mAttributeError\u001b[0m                            Traceback (most recent call last)",
      "Cell \u001b[0;32mIn [73], line 1\u001b[0m\n\u001b[0;32m----> 1\u001b[0m test \u001b[38;5;241m=\u001b[39m \u001b[43mextract_item_info\u001b[49m\u001b[43m(\u001b[49m\u001b[43mcategory_names\u001b[49m\u001b[43m)\u001b[49m\n",
      "Cell \u001b[0;32mIn [70], line 8\u001b[0m, in \u001b[0;36mextract_item_info\u001b[0;34m(category_names)\u001b[0m\n\u001b[1;32m      5\u001b[0m urls \u001b[38;5;241m=\u001b[39m [j \u001b[38;5;28;01mfor\u001b[39;00m i \u001b[38;5;129;01min\u001b[39;00m item_urls \u001b[38;5;28;01mfor\u001b[39;00m j \u001b[38;5;129;01min\u001b[39;00m i]\n\u001b[1;32m      7\u001b[0m \u001b[38;5;28;01mwith\u001b[39;00m Pool(\u001b[38;5;241m5\u001b[39m) \u001b[38;5;28;01mas\u001b[39;00m p:\n\u001b[0;32m----> 8\u001b[0m     result \u001b[38;5;241m=\u001b[39m \u001b[43mp\u001b[49m\u001b[38;5;241;43m.\u001b[39;49m\u001b[43mmap\u001b[49m\u001b[43m(\u001b[49m\u001b[43mget_product_data\u001b[49m\u001b[43m,\u001b[49m\u001b[43mextract_item_contents\u001b[49m\u001b[43m(\u001b[49m\u001b[43murls\u001b[49m\u001b[43m)\u001b[49m\u001b[43m)\u001b[49m\n\u001b[1;32m     10\u001b[0m \u001b[38;5;28;01mreturn\u001b[39;00m result\n",
      "File \u001b[0;32m/Library/Developer/CommandLineTools/Library/Frameworks/Python3.framework/Versions/3.9/lib/python3.9/multiprocessing/pool.py:364\u001b[0m, in \u001b[0;36mPool.map\u001b[0;34m(self, func, iterable, chunksize)\u001b[0m\n\u001b[1;32m    359\u001b[0m \u001b[38;5;28;01mdef\u001b[39;00m \u001b[38;5;21mmap\u001b[39m(\u001b[38;5;28mself\u001b[39m, func, iterable, chunksize\u001b[38;5;241m=\u001b[39m\u001b[38;5;28;01mNone\u001b[39;00m):\n\u001b[1;32m    360\u001b[0m     \u001b[38;5;124;03m'''\u001b[39;00m\n\u001b[1;32m    361\u001b[0m \u001b[38;5;124;03m    Apply `func` to each element in `iterable`, collecting the results\u001b[39;00m\n\u001b[1;32m    362\u001b[0m \u001b[38;5;124;03m    in a list that is returned.\u001b[39;00m\n\u001b[1;32m    363\u001b[0m \u001b[38;5;124;03m    '''\u001b[39;00m\n\u001b[0;32m--> 364\u001b[0m     \u001b[38;5;28;01mreturn\u001b[39;00m \u001b[38;5;28;43mself\u001b[39;49m\u001b[38;5;241;43m.\u001b[39;49m\u001b[43m_map_async\u001b[49m\u001b[43m(\u001b[49m\u001b[43mfunc\u001b[49m\u001b[43m,\u001b[49m\u001b[43m \u001b[49m\u001b[43miterable\u001b[49m\u001b[43m,\u001b[49m\u001b[43m \u001b[49m\u001b[43mmapstar\u001b[49m\u001b[43m,\u001b[49m\u001b[43m \u001b[49m\u001b[43mchunksize\u001b[49m\u001b[43m)\u001b[49m\u001b[38;5;241;43m.\u001b[39;49m\u001b[43mget\u001b[49m\u001b[43m(\u001b[49m\u001b[43m)\u001b[49m\n",
      "File \u001b[0;32m/Library/Developer/CommandLineTools/Library/Frameworks/Python3.framework/Versions/3.9/lib/python3.9/multiprocessing/pool.py:771\u001b[0m, in \u001b[0;36mApplyResult.get\u001b[0;34m(self, timeout)\u001b[0m\n\u001b[1;32m    769\u001b[0m     \u001b[38;5;28;01mreturn\u001b[39;00m \u001b[38;5;28mself\u001b[39m\u001b[38;5;241m.\u001b[39m_value\n\u001b[1;32m    770\u001b[0m \u001b[38;5;28;01melse\u001b[39;00m:\n\u001b[0;32m--> 771\u001b[0m     \u001b[38;5;28;01mraise\u001b[39;00m \u001b[38;5;28mself\u001b[39m\u001b[38;5;241m.\u001b[39m_value\n",
      "\u001b[0;31mAttributeError\u001b[0m: 'NoneType' object has no attribute 'url'"
     ]
    }
   ],
   "source": [
    "test = extract_item_info(category_names)"
   ]
  },
  {
   "cell_type": "code",
   "execution_count": null,
   "id": "424da1e8-c731-4f13-aa6c-b67a115d5fcd",
   "metadata": {},
   "outputs": [],
   "source": [
    "import pickle\n",
    "with open(\"data.pkl\", \"wb\") as f:\n",
    "    pickle.dump(test,f)"
   ]
  },
  {
   "cell_type": "code",
   "execution_count": 111,
   "id": "cfb6649c-89c3-437c-bea0-cbd54c131f60",
   "metadata": {},
   "outputs": [],
   "source": [
    "with open(\"data.pkl\", \"rb\") as f:\n",
    "    qq = pickle.load(f)"
   ]
  },
  {
   "cell_type": "code",
   "execution_count": 46,
   "id": "ffa874e3-ae7b-47b8-97c2-c9199b999e35",
   "metadata": {},
   "outputs": [],
   "source": []
  },
  {
   "cell_type": "code",
   "execution_count": null,
   "id": "409639dc-c811-42d4-97f6-445efa395fbf",
   "metadata": {},
   "outputs": [],
   "source": []
  }
 ],
 "metadata": {
  "kernelspec": {
   "display_name": "Python 3 (ipykernel)",
   "language": "python",
   "name": "python3"
  },
  "language_info": {
   "codemirror_mode": {
    "name": "ipython",
    "version": 3
   },
   "file_extension": ".py",
   "mimetype": "text/x-python",
   "name": "python",
   "nbconvert_exporter": "python",
   "pygments_lexer": "ipython3",
   "version": "3.9.6"
  }
 },
 "nbformat": 4,
 "nbformat_minor": 5
}
