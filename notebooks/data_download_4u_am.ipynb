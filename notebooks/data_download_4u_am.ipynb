{
 "cells": [
  {
   "cell_type": "code",
   "execution_count": 1,
   "id": "9f3355f4-15f0-43a2-bff4-edc739a38151",
   "metadata": {},
   "outputs": [],
   "source": [
    "from bs4 import BeautifulSoup\n",
    "import grequests\n",
    "import requests\n",
    "from multiprocessing import Pool\n",
    "import numpy as np\n",
    "import re"
   ]
  },
  {
   "cell_type": "code",
   "execution_count": 2,
   "id": "285062b7-9b0c-468a-95f7-ea9859382870",
   "metadata": {},
   "outputs": [],
   "source": [
    "def strip_white_chars(text):\n",
    "    return text.strip(\"\\n\").strip(\" \")"
   ]
  },
  {
   "cell_type": "code",
   "execution_count": 44,
   "id": "2a668b32-a3f5-4ba9-829e-48c8fa1e05bc",
   "metadata": {},
   "outputs": [],
   "source": [
    "def get_product_data(product_request_categ):\n",
    "    \"\"\"Function is responsible for scraping product data from 4U.am product content\n",
    "    \"\"\"\n",
    "    product_request=product_request_categ[0]\n",
    "    category = product_request_categ[1]\n",
    "    try:\n",
    "        soup = BeautifulSoup(product_request.content, 'html.parser')\n",
    "        sp = soup.find_all(\"div\", {\"class\": \"info_container\"})[0]\n",
    "\n",
    "        product_data = {}\n",
    "        product_data[\"product\"] = sp.find('p', attrs={'class' : 'name_info'}).text\n",
    "\n",
    "        brand_partner = sp.find_all('div', attrs={'class' : 'brand_partner'})\n",
    "        product_data[\"item_code\"] = brand_partner[0].span.strong.text\n",
    "        product_data[\"store\"] = strip_white_chars(brand_partner[1].find_all(\"span\")[0].a.text)\n",
    "        try:\n",
    "            product_data[\"brand\"] = strip_white_chars(brand_partner[1].find_all(\"span\")[1].a.text)\n",
    "        except:\n",
    "            pass\n",
    "        product_data[\"url\"] = product_request.url\n",
    "        product_data[\"price\"] = strip_white_chars(sp.find(\"p\", attrs={'class' : 'item_price'}).span.span.text)\n",
    "        product_data[\"item description\"] = strip_white_chars(sp.find(\"div\", attrs={'id' : 'description'}).div.text)\n",
    "        product_data[\"image url\"] = soup.find(\"div\", attrs={'class' : 'show_tumb'}).img[\"src\"]\n",
    "        product_data[\"category\"] = category\n",
    "\n",
    "        return product_data\n",
    "    except:\n",
    "        return dict()"
   ]
  },
  {
   "cell_type": "code",
   "execution_count": 45,
   "id": "efe3ba62-3564-44fe-8f95-033fb46fc0b5",
   "metadata": {},
   "outputs": [],
   "source": [
    "def get_category_names():\n",
    "    r = requests.get(\"https://4u.am/en/\")\n",
    "    soup = BeautifulSoup(r.content, 'html.parser')\n",
    "    text = str(soup)\n",
    "    return list(set(re.findall(r\"\\/en/category/([\\w-]+)[\\?|\\\"]\\b\", text)))"
   ]
  },
  {
   "cell_type": "code",
   "execution_count": 46,
   "id": "b46c4253-fc7c-46e2-a79d-9c191f0e37b5",
   "metadata": {},
   "outputs": [],
   "source": [
    "def extract_category_contents(category_names):\n",
    "    rs = (grequests.get(\"https://4u.am/en/category/\"+cat) for cat in category_names)\n",
    "    return grequests.map(rs)\n",
    "\n",
    "def extract_item_contents(item_urls):\n",
    "    rs = (grequests.get(\"https://4u.am\"+item) for item in item_urls)\n",
    "    return grequests.map(rs)"
   ]
  },
  {
   "cell_type": "code",
   "execution_count": 47,
   "id": "59c19120-0c6f-4732-b04d-bf3256c7cd5d",
   "metadata": {},
   "outputs": [],
   "source": [
    "def extract_item_urls(category_request):\n",
    "    items = []\n",
    "    soup = BeautifulSoup(category_request.content, 'html.parser')\n",
    "    sp= soup.find_all('div', attrs={'class' : 'category_item'})\n",
    "    for i in sp: items.append((i.find_all(\"a\")[1][\"href\"],category_request.url.split(\"/\")[-1]))\n",
    "    return items"
   ]
  },
  {
   "cell_type": "code",
   "execution_count": 54,
   "id": "afc8d458-2705-47a0-aca3-6a0637df08fc",
   "metadata": {},
   "outputs": [],
   "source": [
    "def extract_item_info(category_names):\n",
    "    \n",
    "    with Pool(5) as p:\n",
    "        item_urls = p.map(extract_item_urls, extract_category_contents(category_names), chunksize=1)\n",
    "        \n",
    "    urls = [j[0] for i in item_urls for j in i]\n",
    "    category = [j[1] for i in item_urls for j in i]\n",
    "    item_contents = extract_item_contents(urls)\n",
    "\n",
    "    zip_item_categ = list(zip(item_contents, category))\n",
    "\n",
    "    with Pool(5) as p:\n",
    "        result = p.map(get_product_data,zip_item_categ)\n",
    "    \n",
    "    return result"
   ]
  },
  {
   "cell_type": "code",
   "execution_count": 55,
   "id": "7a9a34d8-2a88-47c5-8588-c70270a1f9f5",
   "metadata": {},
   "outputs": [],
   "source": [
    "category_names =  get_category_names()"
   ]
  },
  {
   "cell_type": "code",
   "execution_count": 56,
   "id": "d9de5b9d-fada-4562-9eaf-b138169e1af5",
   "metadata": {
    "tags": []
   },
   "outputs": [],
   "source": [
    "test = extract_item_info(category_names)"
   ]
  },
  {
   "cell_type": "code",
   "execution_count": 58,
   "id": "424da1e8-c731-4f13-aa6c-b67a115d5fcd",
   "metadata": {},
   "outputs": [],
   "source": [
    "import pickle\n",
    "with open(\"data.pkl\", \"wb\") as f:\n",
    "    pickle.dump(test,f)"
   ]
  },
  {
   "cell_type": "code",
   "execution_count": 111,
   "id": "cfb6649c-89c3-437c-bea0-cbd54c131f60",
   "metadata": {},
   "outputs": [],
   "source": [
    "with open(\"data.pkl\", \"rb\") as f:\n",
    "    qq = pickle.load(f)"
   ]
  },
  {
   "cell_type": "code",
   "execution_count": null,
   "id": "e8d8d2a8-315c-4853-a3ed-833a30dfbdbb",
   "metadata": {},
   "outputs": [],
   "source": []
  }
 ],
 "metadata": {
  "kernelspec": {
   "display_name": "Python 3 (ipykernel)",
   "language": "python",
   "name": "python3"
  },
  "language_info": {
   "codemirror_mode": {
    "name": "ipython",
    "version": 3
   },
   "file_extension": ".py",
   "mimetype": "text/x-python",
   "name": "python",
   "nbconvert_exporter": "python",
   "pygments_lexer": "ipython3",
   "version": "3.9.6"
  }
 },
 "nbformat": 4,
 "nbformat_minor": 5
}
